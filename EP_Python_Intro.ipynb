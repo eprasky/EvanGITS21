{
 "cells": [
  {
   "cell_type": "markdown",
   "metadata": {},
   "source": [
    "# Python Data Types \n"
   ]
  },
  {
   "cell_type": "code",
   "execution_count": 6,
   "metadata": {},
   "outputs": [
    {
     "data": {
      "text/plain": [
       "True"
      ]
     },
     "execution_count": 6,
     "metadata": {},
     "output_type": "execute_result"
    }
   ],
   "source": [
    "# 1. Boolean Data (0 or 1, False or True, no or yes)\n",
    "\n",
    "a = True \n",
    "b = False \n",
    "a"
   ]
  },
  {
   "cell_type": "code",
   "execution_count": 9,
   "metadata": {},
   "outputs": [
    {
     "name": "stdout",
     "output_type": "stream",
     "text": [
      "False\n"
     ]
    }
   ],
   "source": [
    "print(b)"
   ]
  },
  {
   "cell_type": "code",
   "execution_count": 10,
   "metadata": {},
   "outputs": [
    {
     "name": "stdout",
     "output_type": "stream",
     "text": [
      "Hi My Name is Evan.\n"
     ]
    }
   ],
   "source": [
    "print('Hi My Name is Evan.')"
   ]
  },
  {
   "cell_type": "code",
   "execution_count": 15,
   "metadata": {},
   "outputs": [
    {
     "data": {
      "text/plain": [
       "int"
      ]
     },
     "execution_count": 15,
     "metadata": {},
     "output_type": "execute_result"
    }
   ],
   "source": [
    "# 2. Interger Data (1,-1,0,8)\n",
    "\n",
    "multiply = 4*4\n",
    "type(multiply)\n"
   ]
  },
  {
   "cell_type": "code",
   "execution_count": 24,
   "metadata": {},
   "outputs": [
    {
     "name": "stdout",
     "output_type": "stream",
     "text": [
      "5.4323\n",
      "<class 'float'>\n",
      "4.0\n"
     ]
    }
   ],
   "source": [
    "import math\n",
    "#3. Float Data (1.0,-1.0, 0.0, 8.0)\n",
    "divide = 4/4\n",
    "c = 3.4323\n",
    "d = 2\n",
    "e = c+d\n",
    "mysqrt = math.sqrt(16)\n",
    "\n",
    "type(c)\n",
    "print(e)\n",
    "print(type(e))\n",
    "print(mysqrt)"
   ]
  },
  {
   "cell_type": "code",
   "execution_count": 29,
   "metadata": {},
   "outputs": [
    {
     "name": "stdout",
     "output_type": "stream",
     "text": [
      "Evan\n",
      "Prasky\n",
      "<class 'str'>\n"
     ]
    }
   ],
   "source": [
    "fname = 'Evan'\n",
    "lname = \"Prasky\"\n",
    "print(fname)\n",
    "print(lname)\n",
    "print(type(fname))"
   ]
  },
  {
   "cell_type": "code",
   "execution_count": 27,
   "metadata": {},
   "outputs": [
    {
     "data": {
      "text/plain": [
       "int"
      ]
     },
     "execution_count": 27,
     "metadata": {},
     "output_type": "execute_result"
    }
   ],
   "source": [
    "type(d) "
   ]
  },
  {
   "cell_type": "code",
   "execution_count": 28,
   "metadata": {},
   "outputs": [
    {
     "data": {
      "text/plain": [
       "float"
      ]
     },
     "execution_count": 28,
     "metadata": {},
     "output_type": "execute_result"
    }
   ],
   "source": [
    "dtofloat = float(d)\n",
    "type(dtofloat)"
   ]
  },
  {
   "cell_type": "code",
   "execution_count": 46,
   "metadata": {},
   "outputs": [
    {
     "name": "stdout",
     "output_type": "stream",
     "text": [
      "Evan Prasky26 is years old\n",
      "<class 'str'>\n"
     ]
    }
   ],
   "source": [
    "age = 26 \n",
    "ages = str(age)\n",
    "fullname = fname + lname\n",
    "print(fname + ' ' + lname + ages +' is years old')\n",
    "print(type(ages))"
   ]
  },
  {
   "cell_type": "code",
   "execution_count": 45,
   "metadata": {},
   "outputs": [
    {
     "name": "stdout",
     "output_type": "stream",
     "text": [
      "EvanPrasky is 26 years old\n"
     ]
    }
   ],
   "source": [
    "print(f'{fullname} is {26} years old')"
   ]
  },
  {
   "cell_type": "code",
   "execution_count": null,
   "metadata": {},
   "outputs": [],
   "source": []
  }
 ],
 "metadata": {
  "kernelspec": {
   "display_name": "Python 3",
   "language": "python",
   "name": "python3"
  },
  "language_info": {
   "codemirror_mode": {
    "name": "ipython",
    "version": 3
   },
   "file_extension": ".py",
   "mimetype": "text/x-python",
   "name": "python",
   "nbconvert_exporter": "python",
   "pygments_lexer": "ipython3",
   "version": "3.8.3"
  }
 },
 "nbformat": 4,
 "nbformat_minor": 4
}
