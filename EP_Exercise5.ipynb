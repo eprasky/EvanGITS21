{
 "cells": [
  {
   "cell_type": "markdown",
   "metadata": {},
   "source": [
    "# Locations and Their Coresponding Coordinates\n",
    "\n",
    "Loon Mountain: 44.05634444444444, -71.63360277777778\n",
    "\n",
    "Epcot: 28.374691666666667, -81.5327361111111\n",
    "\n",
    "The Golden Gate Bridge: 37.808680555555554, -122.47542777777778\n"
   ]
  },
  {
   "cell_type": "code",
   "execution_count": null,
   "metadata": {},
   "outputs": [],
   "source": [
    "import math\n",
    "radius = 6371\n",
    "lat1 = float(input(44.05634444444444)) * (math.pi/180)\n",
    "lon1 = float(input-71.63360277777778)) * (math.pi/180)\n",
    "\n",
    "lat2 = float(input28.374691666666667)) * (math.pi/180)\n",
    "lon2 = float(input-81.5327361111111)) * (math.pi/180)\n",
    "\n",
    "lat3 = float(input37.808680555555554)) * (math.pi/180)\n",
    "lon3 = float(input-122.47542777777778)) * (math.pi/180)\n",
    "\n",
    "\n",
    "latd = lat1-lat2\n",
    "lond = lon1-lon2\n",
    "\n",
    "late = lat1-lat3\n",
    "lone = lon1-lon3\n",
    "\n",
    "latg = lat2-lat3\n",
    "long = lon2-lon3\n",
    "\n",
    "a= math.sin(latd/2)**2 +math.cos(lat1) * math.cos(lat2) * math.sin(lond/2)**2\n",
    "b= math.sin(latd/2)**2 +math.cos(lat1) * math.cos(lat3) * math.sin(lone/2)**2\n",
    "w= math.sin(latg/2)**2 +math.cos(lat2) * math.cos(lat3) * math.sin(lone/2)**2\n",
    "\n",
    "c= 2 * math.atan2(math.sqrt(a),math.sqrt(1-a))\n",
    "f= 2 * math.atan2(math.sqrt(b),math.sqrt(1-b))\n",
    "h= 2 * math.atan2(math.sqrt(b),math.sqrt(1-w))\n",
    "\n",
    "d= round(radius * c  * 0.621371,2)\n",
    "e= round(radius * f  * 0.621371,2)\n",
    "g=round(radius *  h * 0.621371,2)\n",
    "\n",
    "print(f'The distance between origin and destination is {d} Miles.')\n",
    "print(f'The distance between origin and destination is {e} Miles.')\n",
    "print(f'The distance between origin and destination is {g} Miles.')"
   ]
  },
  {
   "cell_type": "code",
   "execution_count": null,
   "metadata": {},
   "outputs": [],
   "source": [
    "print('Loon Mountains cordinates are 44.05634444444444, -71.63360277777778')\n",
    "print('Epcots cordinates are 28.374691666666667, -81.5327361111111')\n",
    "print('The Golden Gate Bridges cordinates are 37.808680555555554, -122.47542777777778')\n"
   ]
  },
  {
   "cell_type": "code",
   "execution_count": 36,
   "metadata": {},
   "outputs": [],
   "source": [
    "def dd(direction,degrees,minutes,seconds):\n",
    "    return direction * (degrees + (minutes + seconds/60)/60)"
   ]
  },
  {
   "cell_type": "code",
   "execution_count": 23,
   "metadata": {},
   "outputs": [
    {
     "data": {
      "text/plain": [
       "44.05634444444444"
      ]
     },
     "execution_count": 23,
     "metadata": {},
     "output_type": "execute_result"
    }
   ],
   "source": [
    "dd(1,44,3,22.84)"
   ]
  },
  {
   "cell_type": "code",
   "execution_count": 24,
   "metadata": {},
   "outputs": [
    {
     "data": {
      "text/plain": [
       "-71.63360277777778"
      ]
     },
     "execution_count": 24,
     "metadata": {},
     "output_type": "execute_result"
    }
   ],
   "source": [
    "dd(-1,71,38,0.97)"
   ]
  },
  {
   "cell_type": "code",
   "execution_count": 25,
   "metadata": {},
   "outputs": [
    {
     "data": {
      "text/plain": [
       "28.374691666666667"
      ]
     },
     "execution_count": 25,
     "metadata": {},
     "output_type": "execute_result"
    }
   ],
   "source": [
    "dd(1,28,22,28.89)"
   ]
  },
  {
   "cell_type": "code",
   "execution_count": 26,
   "metadata": {},
   "outputs": [
    {
     "data": {
      "text/plain": [
       "-81.5327361111111"
      ]
     },
     "execution_count": 26,
     "metadata": {},
     "output_type": "execute_result"
    }
   ],
   "source": [
    "dd(-1,81,31,57.85)"
   ]
  },
  {
   "cell_type": "code",
   "execution_count": 27,
   "metadata": {},
   "outputs": [
    {
     "data": {
      "text/plain": [
       "37.808680555555554"
      ]
     },
     "execution_count": 27,
     "metadata": {},
     "output_type": "execute_result"
    }
   ],
   "source": [
    "dd(1,37,48,31.25)"
   ]
  },
  {
   "cell_type": "code",
   "execution_count": 28,
   "metadata": {},
   "outputs": [
    {
     "data": {
      "text/plain": [
       "-122.47542777777778"
      ]
     },
     "execution_count": 28,
     "metadata": {},
     "output_type": "execute_result"
    }
   ],
   "source": [
    "dd(-1,122,28,31.54)"
   ]
  }
 ],
 "metadata": {
  "kernelspec": {
   "display_name": "Python 3",
   "language": "python",
   "name": "python3"
  },
  "language_info": {
   "codemirror_mode": {
    "name": "ipython",
    "version": 3
   },
   "file_extension": ".py",
   "mimetype": "text/x-python",
   "name": "python",
   "nbconvert_exporter": "python",
   "pygments_lexer": "ipython3",
   "version": "3.8.5"
  }
 },
 "nbformat": 4,
 "nbformat_minor": 4
}
