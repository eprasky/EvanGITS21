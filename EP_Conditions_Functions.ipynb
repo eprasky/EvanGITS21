{
 "cells": [
  {
   "cell_type": "markdown",
   "metadata": {},
   "source": [
    "# If Statmensts / While Statments "
   ]
  },
  {
   "cell_type": "code",
   "execution_count": 7,
   "metadata": {},
   "outputs": [],
   "source": [
    "snowfall = [81.2,61.9,61.4,43.8,64.1,40.5,33.8]"
   ]
  },
  {
   "cell_type": "code",
   "execution_count": 8,
   "metadata": {},
   "outputs": [
    {
     "name": "stdout",
     "output_type": "stream",
     "text": [
      "81.2\n",
      "143.1\n",
      "204.5\n",
      "248.3\n",
      "312.4\n",
      "352.9\n",
      "386.7\n",
      "386.7\n",
      "55.24285714285714\n"
     ]
    }
   ],
   "source": [
    "counter=0\n",
    "for i in snowfall:\n",
    "    counter = counter+i\n",
    "    print(counter)\n",
    "print(counter)\n",
    "len(snowfall)\n",
    "avg = counter/len(snowfall)\n",
    "print(avg)"
   ]
  },
  {
   "cell_type": "code",
   "execution_count": 9,
   "metadata": {},
   "outputs": [],
   "source": [
    "lowsnow=[]\n",
    "condition = True \n",
    "snowfall = [81.2,61.9,61.4,43.8,64.1,40.5,33.8] \n",
    "while condition:\n",
    "    for i in snowfall:\n",
    "        if i <= 45:\n",
    "            lowsnow.append(i)\n",
    "        else:\n",
    "            condition=False\n",
    "    break"
   ]
  },
  {
   "cell_type": "code",
   "execution_count": 10,
   "metadata": {},
   "outputs": [
    {
     "name": "stdout",
     "output_type": "stream",
     "text": [
      "43.8\n",
      "84.3\n",
      "118.1\n",
      "118.1\n",
      "39.36666666666667\n"
     ]
    }
   ],
   "source": [
    "lowsnow\n",
    "x=0\n",
    "for i in lowsnow:\n",
    "    x = x+i\n",
    "    print(x)\n",
    "print(x)\n",
    "len(lowsnow)\n",
    "avg = x/len(lowsnow)\n",
    "print(avg)"
   ]
  },
  {
   "cell_type": "code",
   "execution_count": null,
   "metadata": {},
   "outputs": [],
   "source": [
    "citysnow = float(input('Enter the snowfall amount for your city: '))\n",
    "if citysnow > 65:\n",
    "    print('Your city is excessive for snowfall.')\n",
    "elif citysnow <=65 and citysnow >40:\n",
    "        print('Your city recives moderate snowfall.')\n",
    "else:\n",
    "    print('Your city is not excessive for snowfall.')"
   ]
  },
  {
   "cell_type": "markdown",
   "metadata": {},
   "source": [
    "# Functions"
   ]
  },
  {
   "cell_type": "code",
   "execution_count": 14,
   "metadata": {},
   "outputs": [],
   "source": [
    "def greeting (firstname):\n",
    "    print(f' Hi {firstname}! It is nice to meet you.')"
   ]
  },
  {
   "cell_type": "code",
   "execution_count": 15,
   "metadata": {},
   "outputs": [
    {
     "name": "stdout",
     "output_type": "stream",
     "text": [
      " Hi Evan! It is nice to meet you.\n"
     ]
    }
   ],
   "source": [
    "greeting('Evan')"
   ]
  },
  {
   "cell_type": "code",
   "execution_count": 1,
   "metadata": {},
   "outputs": [],
   "source": [
    "def greeting():\n",
    "    firstname=input('Enter your first name:')\n",
    "    print(f'Hi {firstname}! It is nice to meet you.')"
   ]
  },
  {
   "cell_type": "code",
   "execution_count": null,
   "metadata": {},
   "outputs": [],
   "source": [
    "greeting()"
   ]
  },
  {
   "cell_type": "code",
   "execution_count": 23,
   "metadata": {},
   "outputs": [],
   "source": [
    "def dd(direction,degrees,minutes,seconds):\n",
    "    return direction * (degrees + (minutes + seconds/60)/60)"
   ]
  },
  {
   "cell_type": "code",
   "execution_count": 24,
   "metadata": {},
   "outputs": [
    {
     "data": {
      "text/plain": [
       "42.29785833333333"
      ]
     },
     "execution_count": 24,
     "metadata": {},
     "output_type": "execute_result"
    }
   ],
   "source": [
    "dd(1,42,17,52.29)"
   ]
  },
  {
   "cell_type": "code",
   "execution_count": 25,
   "metadata": {},
   "outputs": [
    {
     "data": {
      "text/plain": [
       "-71.43626111111111"
      ]
     },
     "execution_count": 25,
     "metadata": {},
     "output_type": "execute_result"
    }
   ],
   "source": [
    "dd(-1,71,26,10.54)"
   ]
  },
  {
   "cell_type": "code",
   "execution_count": 26,
   "metadata": {},
   "outputs": [
    {
     "data": {
      "text/plain": [
       "48.810291666666664"
      ]
     },
     "execution_count": 26,
     "metadata": {},
     "output_type": "execute_result"
    }
   ],
   "source": [
    "dd(1,48,48,37.05)"
   ]
  },
  {
   "cell_type": "code",
   "execution_count": 30,
   "metadata": {},
   "outputs": [
    {
     "data": {
      "text/plain": [
       "2.0999944444444445"
      ]
     },
     "execution_count": 30,
     "metadata": {},
     "output_type": "execute_result"
    }
   ],
   "source": [
    "dd(1,2,5,59.98)"
   ]
  },
  {
   "cell_type": "code",
   "execution_count": 41,
   "metadata": {},
   "outputs": [
    {
     "name": "stdout",
     "output_type": "stream",
     "text": [
      "The distance between the two points is 5545.550955919683 kilometers.\n"
     ]
    }
   ],
   "source": [
    "import math\n",
    "radius = 6371\n",
    "lat1 = 42.29785833333333 * (math.pi/180)\n",
    "lon1 = -71.43626111111111 * (math.pi/180)\n",
    "lat2 = 48.810291666666664* (math.pi/180)\n",
    "lon2 = 2.0999944444444445 * (math.pi/180)\n",
    "\n",
    "\n",
    "latd = lat1-lat2\n",
    "lond = lon1-lon2\n",
    "\n",
    "a= math.sin(latd/2)**2 +math.cos(lat1) * math.cos(lat2) * math.sin(lond/2)**2\n",
    "\n",
    "c= 2 * math.atan2(math.sqrt(a),math.sqrt(1-a))\n",
    "\n",
    "d= (radius * c )\n",
    "\n",
    "print(f'The distance between the two points is {d} kilometers.')\n"
   ]
  },
  {
   "cell_type": "code",
   "execution_count": 42,
   "metadata": {},
   "outputs": [],
   "source": [
    "def greeting():\n",
    "    firstname=input('Enter your first name:')\n",
    "    print(f'Hi {firstname}! It is nice to meet you.')"
   ]
  }
 ],
 "metadata": {
  "kernelspec": {
   "display_name": "Python 3",
   "language": "python",
   "name": "python3"
  },
  "language_info": {
   "codemirror_mode": {
    "name": "ipython",
    "version": 3
   },
   "file_extension": ".py",
   "mimetype": "text/x-python",
   "name": "python",
   "nbconvert_exporter": "python",
   "pygments_lexer": "ipython3",
   "version": "3.8.5"
  }
 },
 "nbformat": 4,
 "nbformat_minor": 4
}
